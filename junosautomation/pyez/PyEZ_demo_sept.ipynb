{
 "cells": [
  {
   "cell_type": "code",
   "execution_count": 106,
   "metadata": {
    "collapsed": true
   },
   "outputs": [],
   "source": [
    "import logging\n",
    "logging.getLogger(\"paramiko\").setLevel(logging.WARNING)"
   ]
  },
  {
   "cell_type": "code",
   "execution_count": 35,
   "metadata": {
    "collapsed": true
   },
   "outputs": [],
   "source": [
    "from jnpr.junos import Device"
   ]
  },
  {
   "cell_type": "code",
   "execution_count": 36,
   "metadata": {
    "collapsed": true
   },
   "outputs": [],
   "source": [
    "from lxml import etree"
   ]
  },
  {
   "cell_type": "code",
   "execution_count": 40,
   "metadata": {
    "collapsed": true
   },
   "outputs": [],
   "source": [
    "#dev = Device(host='xxxx', user='demo', password='demo123', gather_facts=False)\n",
    "dev = Device(host='xxxx', user='demo', password='demo123')"
   ]
  },
  {
   "cell_type": "code",
   "execution_count": null,
   "metadata": {
    "collapsed": false
   },
   "outputs": [],
   "source": [
    "dev.open()"
   ]
  },
  {
   "cell_type": "code",
   "execution_count": null,
   "metadata": {
    "collapsed": false,
    "scrolled": true
   },
   "outputs": [],
   "source": [
    "dev.facts"
   ]
  },
  {
   "cell_type": "code",
   "execution_count": null,
   "metadata": {
    "collapsed": true
   },
   "outputs": [],
   "source": []
  },
  {
   "cell_type": "code",
   "execution_count": null,
   "metadata": {
    "collapsed": true
   },
   "outputs": [],
   "source": [
    "op = dev.rpc.get_interface_information()\n",
    "#op = dev.rpc.get_interface_information({'format': 'text'})\n",
    "#op = dev.rpc.get_interface_information(interface_name='lo0', terse=True)"
   ]
  },
  {
   "cell_type": "code",
   "execution_count": null,
   "metadata": {
    "collapsed": false
   },
   "outputs": [],
   "source": [
    "print etree.tostring(op)"
   ]
  },
  {
   "cell_type": "code",
   "execution_count": null,
   "metadata": {
    "collapsed": false
   },
   "outputs": [],
   "source": [
    "print dev.cli(\"show version\", warning=False)"
   ]
  },
  {
   "cell_type": "code",
   "execution_count": null,
   "metadata": {
    "collapsed": true
   },
   "outputs": [],
   "source": [
    "cnf = dev.rpc.get_config()"
   ]
  },
  {
   "cell_type": "code",
   "execution_count": null,
   "metadata": {
    "collapsed": false
   },
   "outputs": [],
   "source": [
    "print etree.tostring(cnf)"
   ]
  },
  {
   "cell_type": "code",
   "execution_count": null,
   "metadata": {
    "collapsed": true
   },
   "outputs": [],
   "source": [
    "data = dev.rpc.get_config(filter_xml=etree.XML('<configuration><system><services/></system></configuration>'))"
   ]
  },
  {
   "cell_type": "code",
   "execution_count": null,
   "metadata": {
    "collapsed": false
   },
   "outputs": [],
   "source": [
    "print etree.tostring(data)"
   ]
  },
  {
   "cell_type": "code",
   "execution_count": null,
   "metadata": {
    "collapsed": true
   },
   "outputs": [],
   "source": [
    "from jnpr.junos.utils.fs import FS"
   ]
  },
  {
   "cell_type": "code",
   "execution_count": null,
   "metadata": {
    "collapsed": true
   },
   "outputs": [],
   "source": [
    "fs = FS(dev)"
   ]
  },
  {
   "cell_type": "code",
   "execution_count": null,
   "metadata": {
    "collapsed": false
   },
   "outputs": [],
   "source": [
    "fs.ls('/var/tmp')"
   ]
  },
  {
   "cell_type": "code",
   "execution_count": null,
   "metadata": {
    "collapsed": false
   },
   "outputs": [],
   "source": [
    "print fs.cat('/var/tmp/nitin.log')"
   ]
  },
  {
   "cell_type": "markdown",
   "metadata": {},
   "source": [
    "### Playing with table/View\n",
    "```\n",
    "RouteTable:\n",
    "  rpc: get-route-information\n",
    "  args_key: destination\n",
    "  item: route-table/rt \n",
    "  key: rt-destination\n",
    "  view: RouteTableView\n",
    "\n",
    "RouteTableView:\n",
    "  groups:\n",
    "    entry: rt-entry\n",
    "  fields_entry:\n",
    "    # fields taken from the group 'entry'\n",
    "    protocol: protocol-name\n",
    "    via: nh/via | nh/nh-local-interface\n",
    "    age: { age/@seconds : int }\n",
    "    nexthop: nh/to\n",
    "```"
   ]
  },
  {
   "cell_type": "code",
   "execution_count": null,
   "metadata": {
    "collapsed": false
   },
   "outputs": [],
   "source": [
    "from jnpr.junos.op.routes import RouteTable\n",
    "tbl = RouteTable(dev)\n",
    "tbl.get()"
   ]
  },
  {
   "cell_type": "code",
   "execution_count": null,
   "metadata": {
    "collapsed": false
   },
   "outputs": [],
   "source": [
    "for item in tbl:\n",
    "    print 'protocol:', item.protocol\n",
    "    print 'age:', item.age\n",
    "    print 'via:', item.via\n",
    "    print"
   ]
  },
  {
   "cell_type": "code",
   "execution_count": null,
   "metadata": {
    "collapsed": false
   },
   "outputs": [],
   "source": [
    "from jnpr.junos.factory.factory_loader import FactoryLoader\n",
    "import yaml\n",
    "\n",
    "yaml_data=\"\"\"\n",
    "---\n",
    "ArpTable:\n",
    "  rpc: get-arp-table-information\n",
    "  item: arp-table-entry\n",
    "  key: mac-address\n",
    "  view: ArpView\n",
    "\n",
    "ArpView:\n",
    "  fields:\n",
    "    mac_address: mac-address\n",
    "    ip_address: ip-address\n",
    "    interface_name: interface-name\n",
    "\"\"\"\n",
    "globals().update(FactoryLoader().load(yaml.load(yaml_data)))\n",
    "arps = ArpTable(dev)\n",
    "arps.get()\n",
    "for arp in arps:\n",
    "        print 'mac_address: ', arp.mac_address\n",
    "        print 'ip_address: ', arp.ip_address\n",
    "        print 'interface_name:', arp.interface_name\n",
    "        print"
   ]
  },
  {
   "cell_type": "markdown",
   "metadata": {},
   "source": [
    "## Loading Configs"
   ]
  },
  {
   "cell_type": "code",
   "execution_count": 11,
   "metadata": {
    "collapsed": true
   },
   "outputs": [],
   "source": [
    "from jnpr.junos.utils.config import Config\n",
    "cu = Config(dev)"
   ]
  },
  {
   "cell_type": "code",
   "execution_count": null,
   "metadata": {
    "collapsed": true
   },
   "outputs": [],
   "source": [
    "data = \"\"\"interfaces { \n",
    "    ge-1/0/1 {\n",
    "        description \"MPLS interface\";\n",
    "        unit 0 {\n",
    "            family mpls;\n",
    "        }      \n",
    "    } \n",
    "    ge-1/0/2 {\n",
    "        description \"MPLS interface\";\n",
    "        unit 0 {\n",
    "            family mpls;\n",
    "        }      \n",
    "    }   \n",
    "}\n",
    "protocols {\n",
    "    mpls { \n",
    "        interface ge-1/0/1; \n",
    "        interface ge-1/0/2;            \n",
    "    }\n",
    "}\n",
    "\"\"\""
   ]
  },
  {
   "cell_type": "code",
   "execution_count": null,
   "metadata": {
    "collapsed": false
   },
   "outputs": [],
   "source": [
    "cu.load(data, format='text')\n",
    "cu.commit_check()"
   ]
  },
  {
   "cell_type": "code",
   "execution_count": null,
   "metadata": {
    "collapsed": false
   },
   "outputs": [],
   "source": [
    "cu.load?"
   ]
  },
  {
   "cell_type": "code",
   "execution_count": null,
   "metadata": {
    "collapsed": false
   },
   "outputs": [],
   "source": [
    "data = \"\"\"<policy-options>\n",
    "          <policy-statement action=\"delete\">\n",
    "            <name>F5-in</name>\n",
    "            <term>\n",
    "                <name>test</name>\n",
    "                <then>\n",
    "                    <accept/>\n",
    "                </then>\n",
    "            </term>\n",
    "            <from>\n",
    "                <protocol>mpls</protocol>\n",
    "            </from>\n",
    "        </policy-statement>\n",
    "        </policy-options>\"\"\"\n",
    "\n",
    "\n",
    "cu.load(data)\n",
    "cu.commit_check()"
   ]
  },
  {
   "cell_type": "code",
   "execution_count": 5,
   "metadata": {
    "collapsed": true
   },
   "outputs": [],
   "source": [
    "xml_temp=\"\"\"<policy-options>\n",
    "        <policy-statement>\n",
    "            <name>all-local</name>\n",
    "            {% for prot in protocols %}\n",
    "            <term>\n",
    "                <name>{{ prot['name'] }}</name>\n",
    "                <from>\n",
    "                    <protocol>{{ prot.protocol }}</protocol>\n",
    "                </from>\n",
    "                <then>\n",
    "                    <accept/>\n",
    "                </then>\n",
    "            </term>{% endfor %}\n",
    "        </policy-statement>\n",
    "    </policy-options>\"\"\"\n"
   ]
  },
  {
   "cell_type": "code",
   "execution_count": 6,
   "metadata": {
    "collapsed": false
   },
   "outputs": [
    {
     "name": "stdout",
     "output_type": "stream",
     "text": [
      "<policy-options>\n",
      "        <policy-statement>\n",
      "            <name>all-local</name>\n",
      "            \n",
      "            <term>\n",
      "                <name>1</name>\n",
      "                <from>\n",
      "                    <protocol>direct</protocol>\n",
      "                </from>\n",
      "                <then>\n",
      "                    <accept/>\n",
      "                </then>\n",
      "            </term>\n",
      "            <term>\n",
      "                <name>2</name>\n",
      "                <from>\n",
      "                    <protocol>static</protocol>\n",
      "                </from>\n",
      "                <then>\n",
      "                    <accept/>\n",
      "                </then>\n",
      "            </term>\n",
      "        </policy-statement>\n",
      "    </policy-options>\n"
     ]
    }
   ],
   "source": [
    "from jinja2 import Template\n",
    "tmpl = Template(xml_temp)\n",
    "conf = tmpl.render(protocols=[{'name':'1', 'protocol':'direct'}, {'name':'2', 'protocol':'static'}])\n",
    "print conf\n",
    "#cu.load(str(conf))"
   ]
  },
  {
   "cell_type": "code",
   "execution_count": 31,
   "metadata": {
    "collapsed": false
   },
   "outputs": [
    {
     "name": "stdout",
     "output_type": "stream",
     "text": [
      "interfaces { \r\n",
      "    {% for item in interfaces %}\r\n",
      "    {{ item }} {\r\n",
      "        description \"{{ description }}\";\r\n",
      "        unit 0 {\r\n",
      "            family {{ family }};\r\n",
      "        }      \r\n",
      "    } {% endfor %}    \r\n",
      "}\r\n",
      "protocols {\r\n",
      "    mpls { \r\n",
      "        {% for item in interfaces %} \r\n",
      "        interface {{ item }}; \r\n",
      "        {% endfor %}    \r\n",
      "    }\r\n",
      "}\r\n",
      "\r\n"
     ]
    }
   ],
   "source": [
    "%cat /Users/nitinkr/Coding/pyezex/protocol.conf"
   ]
  },
  {
   "cell_type": "code",
   "execution_count": 32,
   "metadata": {
    "collapsed": false
   },
   "outputs": [
    {
     "name": "stdout",
     "output_type": "stream",
     "text": [
      "---\r\n",
      "interfaces:\r\n",
      "  - ge-1/0/1\r\n",
      "  - ge-1/0/2\r\n",
      "description: 'MPLS interface'\r\n",
      "family: mpls\r\n"
     ]
    }
   ],
   "source": [
    "%cat /Users/nitinkr/Coding/pyezex/protocol_data.yml"
   ]
  },
  {
   "cell_type": "code",
   "execution_count": 33,
   "metadata": {
    "collapsed": false
   },
   "outputs": [
    {
     "name": "stdout",
     "output_type": "stream",
     "text": [
      "{'interfaces': ['ge-1/0/1', 'ge-1/0/2'], 'description': 'MPLS interface', 'family': 'mpls'}\n"
     ]
    }
   ],
   "source": [
    "import yaml\n",
    "data = yaml.load(open('/Users/nitinkr/Coding/pyezex/protocol_data.yml'))\n",
    "print data"
   ]
  },
  {
   "cell_type": "code",
   "execution_count": 34,
   "metadata": {
    "collapsed": false
   },
   "outputs": [
    {
     "name": "stdout",
     "output_type": "stream",
     "text": [
      "interfaces { \n",
      "    \n",
      "    ge-1/0/1 {\n",
      "        description \"MPLS interface\";\n",
      "        unit 0 {\n",
      "            family mpls;\n",
      "        }      \n",
      "    } \n",
      "    ge-1/0/2 {\n",
      "        description \"MPLS interface\";\n",
      "        unit 0 {\n",
      "            family mpls;\n",
      "        }      \n",
      "    }     \n",
      "}\n",
      "protocols {\n",
      "    mpls { \n",
      "         \n",
      "        interface ge-1/0/1; \n",
      "         \n",
      "        interface ge-1/0/2; \n",
      "            \n",
      "    }\n",
      "}\n",
      "\n"
     ]
    }
   ],
   "source": [
    "from jinja2 import Template\n",
    "tmpl = Template(open('/Users/nitinkr/Coding/pyezex/protocol.conf').read())\n",
    "conf = tmpl.render(data)\n",
    "print conf"
   ]
  },
  {
   "cell_type": "code",
   "execution_count": 13,
   "metadata": {
    "collapsed": false
   },
   "outputs": [
    {
     "data": {
      "text/plain": [
       "<Element load-configuration-results at 0x1055babd8>"
      ]
     },
     "execution_count": 13,
     "metadata": {},
     "output_type": "execute_result"
    }
   ],
   "source": [
    "cu.load(template_path='/Users/nitinkr/Coding/pyezex/protocol.conf',\n",
    "        template_vars=data, format='text')"
   ]
  },
  {
   "cell_type": "code",
   "execution_count": 14,
   "metadata": {
    "collapsed": false
   },
   "outputs": [
    {
     "name": "stdout",
     "output_type": "stream",
     "text": [
      "\n",
      "[edit interfaces]\n",
      "+   ge-1/0/1 {\n",
      "+       description \"MPLS interface\";\n",
      "+       unit 0 {\n",
      "+           family mpls;\n",
      "+       }\n",
      "+   }\n",
      "+   ge-1/0/2 {\n",
      "+       description \"MPLS interface\";\n",
      "+       unit 0 {\n",
      "+           family mpls;\n",
      "+       }\n",
      "+   }\n",
      "[edit]\n",
      "+  protocols {\n",
      "+      mpls {\n",
      "+          interface ge-1/0/1.0;\n",
      "+          interface ge-1/0/2.0;\n",
      "+      }\n",
      "+  }\n",
      "\n"
     ]
    }
   ],
   "source": [
    "cu.pdiff()"
   ]
  },
  {
   "cell_type": "code",
   "execution_count": 15,
   "metadata": {
    "collapsed": false
   },
   "outputs": [
    {
     "data": {
      "text/plain": [
       "True"
      ]
     },
     "execution_count": 15,
     "metadata": {},
     "output_type": "execute_result"
    }
   ],
   "source": [
    "cu.rollback()"
   ]
  },
  {
   "cell_type": "code",
   "execution_count": 16,
   "metadata": {
    "collapsed": false
   },
   "outputs": [
    {
     "name": "stdout",
     "output_type": "stream",
     "text": [
      "None\n"
     ]
    }
   ],
   "source": [
    "cu.pdiff()"
   ]
  },
  {
   "cell_type": "markdown",
   "metadata": {},
   "source": [
    "## Software\n",
    "\n",
    "```python\n",
    "def update_progress(dev, report):\n",
    "    print dev.hostname, '> ', report\n",
    "    \n",
    "sw.install('/var/tmp/junos-srxsme-12.1X46-D15.3-domestic.tgz', validate=True, progress=update_progress)\n",
    "```"
   ]
  },
  {
   "cell_type": "code",
   "execution_count": 19,
   "metadata": {
    "collapsed": true
   },
   "outputs": [],
   "source": [
    "from jnpr.junos.utils.sw import SW\n",
    "sw = SW(dev)"
   ]
  },
  {
   "cell_type": "code",
   "execution_count": 20,
   "metadata": {
    "collapsed": false
   },
   "outputs": [],
   "source": [
    "sw.install?"
   ]
  },
  {
   "cell_type": "code",
   "execution_count": null,
   "metadata": {
    "collapsed": false
   },
   "outputs": [],
   "source": [
    "dev = Device(host='xxxx', user='demo', password='demo123', gather_facts=False)\n",
    "dev.open()\n",
    "sw = SW(dev)\n",
    "ok = sw.install(package=r'/Users/nitinkr/Downloads/jinstall-xxxxx-domestic.tgz', progress=update_progress)\n",
    "if ok:\n",
    "    print 'rebooting'\n",
    "    sw.reboot()"
   ]
  },
  {
   "cell_type": "code",
   "execution_count": 21,
   "metadata": {
    "collapsed": true
   },
   "outputs": [],
   "source": [
    "from jnpr.junos.utils.scp import SCP"
   ]
  },
  {
   "cell_type": "code",
   "execution_count": 23,
   "metadata": {
    "collapsed": false
   },
   "outputs": [
    {
     "name": "stdout",
     "output_type": "stream",
     "text": [
      "Hello world\r\n"
     ]
    }
   ],
   "source": [
    "%cat info.txt"
   ]
  },
  {
   "cell_type": "code",
   "execution_count": 24,
   "metadata": {
    "collapsed": true
   },
   "outputs": [],
   "source": [
    "%rm info.txt"
   ]
  },
  {
   "cell_type": "code",
   "execution_count": null,
   "metadata": {
    "collapsed": false
   },
   "outputs": [],
   "source": [
    "import time\n",
    "from bokeh.plotting import figure, output_server, cursession, show\n",
    "from bokeh.models import NumeralTickFormatter\n",
    "\n",
    "from jnpr.junos import Device\n",
    "\n",
    "# prepare output to server\n",
    "output_server(\"animated_line\")\n",
    "\n",
    "p = figure(plot_width=600, plot_height=600)\n",
    "dev = Device(host='xxxx', user='demo', password='demo123', gather_facts=False, port=22)\n",
    "dev.open()\n",
    "\n",
    "x_tmp = [0]*5\n",
    "x_var = [0]*5\n",
    "ct = time.localtime()\n",
    "ct = ct.tm_hour*3600+ct.tm_min*60+ct.tm_sec\n",
    "op = dev.rpc.get_statistics_information(tcp=True)\n",
    "packets_sent_new = op.xpath('.//packets-sent')[0].text.strip()\n",
    "packets_recv_new = op.xpath('.//packets-received')[0].text.strip()\n",
    "p.line([ct, ct+2, ct+4, ct+6, ct+8], x_tmp, name='ex_line',  legend = 'packets-sent')\n",
    "p.line([ct, ct+2, ct+4, ct+6, ct+8], x_var, name='ex_line', line_color=\"red\", legend = 'packets-recv')\n",
    "p.xaxis[0].formatter = NumeralTickFormatter(format='00:00:00')\n",
    "show(p)\n",
    "\n",
    "# create some simple animation..\n",
    "# first get our figure example data source\n",
    "renderer = p.select(dict(name=\"ex_line\"))\n",
    "ds1 = renderer[0].data_source\n",
    "ds2 = renderer[1].data_source\n",
    "while True:\n",
    "    op = dev.rpc.get_statistics_information(tcp=True)\n",
    "    packets_sent_new, packets_sent_old = op.xpath('.//packets-sent')[0].text.strip(), packets_sent_new\n",
    "    packets_recv_new, packets_recv_old = op.xpath('.//packets-received')[0].text.strip(), packets_recv_new\n",
    "    ct = time.localtime()\n",
    "    ct = ct.tm_hour*3600+ct.tm_min*60+ct.tm_sec\n",
    "    ds2.data[\"x\"] = ds1.data[\"x\"] = [ct, ct+2, ct+4, ct+6, ct+8]\n",
    "    ds1.data[\"y\"] = ds1.data[\"y\"][1:]+[int(packets_sent_new)-int(packets_sent_old)]\n",
    "    ds2.data[\"y\"] = ds2.data[\"y\"][1:]+[int(packets_recv_new)-int(packets_recv_old)]\n",
    "    cursession().store_objects(ds1, ds2)\n",
    "    time.sleep(1.5)"
   ]
  }
 ],
 "metadata": {
  "kernelspec": {
   "display_name": "Python 2",
   "language": "python",
   "name": "python2"
  },
  "language_info": {
   "codemirror_mode": {
    "name": "ipython",
    "version": 2
   },
   "file_extension": ".py",
   "mimetype": "text/x-python",
   "name": "python",
   "nbconvert_exporter": "python",
   "pygments_lexer": "ipython2",
   "version": "2.7.8"
  }
 },
 "nbformat": 4,
 "nbformat_minor": 0
}
